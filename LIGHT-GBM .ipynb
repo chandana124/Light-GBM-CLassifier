{
 "cells": [
  {
   "cell_type": "markdown",
   "metadata": {},
   "source": [
    "Telcom Customer Churn\n",
    "Each row represents a customer, each column contains customer’s attributes described on the column Metadata.\n",
    "\n",
    "The raw data contains 7032 rows (customers) and 21 columns (features).\n",
    "\n",
    "The “Churn” column is our target."
   ]
  },
  {
   "cell_type": "code",
   "execution_count": 11,
   "metadata": {},
   "outputs": [],
   "source": [
    "import pandas as pd\n",
    "import numpy as np\n",
    "import matplotlib\n",
    "import matplotlib.pyplot as plt\n",
    "import seaborn as sns\n",
    "import statsmodels.api as sm\n",
    "%matplotlib inline\n",
    "import plusmodules as pm\n",
    "import warnings\n",
    "warnings.filterwarnings('ignore')"
   ]
  },
  {
   "cell_type": "code",
   "execution_count": 6,
   "metadata": {},
   "outputs": [],
   "source": [
    "df=pd.read_csv('telco_chrun_encoded (1).csv')"
   ]
  },
  {
   "cell_type": "code",
   "execution_count": 7,
   "metadata": {},
   "outputs": [
    {
     "data": {
      "text/plain": [
       "(7032, 25)"
      ]
     },
     "execution_count": 7,
     "metadata": {},
     "output_type": "execute_result"
    }
   ],
   "source": [
    "df.shape"
   ]
  },
  {
   "cell_type": "code",
   "execution_count": 9,
   "metadata": {},
   "outputs": [
    {
     "name": "stdout",
     "output_type": "stream",
     "text": [
      "<class 'pandas.core.frame.DataFrame'>\n",
      "RangeIndex: 7032 entries, 0 to 7031\n",
      "Data columns (total 25 columns):\n",
      " #   Column                           Non-Null Count  Dtype  \n",
      "---  ------                           --------------  -----  \n",
      " 0   gender                           7032 non-null   int64  \n",
      " 1   senior                           7032 non-null   int64  \n",
      " 2   partner                          7032 non-null   int64  \n",
      " 3   dependents                       7032 non-null   int64  \n",
      " 4   tenure                           7032 non-null   int64  \n",
      " 5   phone_service                    7032 non-null   int64  \n",
      " 6   multiple_lines                   7032 non-null   int64  \n",
      " 7   online_security                  7032 non-null   int64  \n",
      " 8   online_backup                    7032 non-null   int64  \n",
      " 9   device_protection                7032 non-null   int64  \n",
      " 10  tech_support                     7032 non-null   int64  \n",
      " 11  streaming_tv                     7032 non-null   int64  \n",
      " 12  streaming_movies                 7032 non-null   int64  \n",
      " 13  paperless_billing                7032 non-null   int64  \n",
      " 14  monthly_charges                  7032 non-null   float64\n",
      " 15  total_charges                    7032 non-null   float64\n",
      " 16  churn                            7032 non-null   int64  \n",
      " 17  avg_monthly_charges              7032 non-null   float64\n",
      " 18  internet_service-fiber_optic     7032 non-null   int64  \n",
      " 19  internet_service-no              7032 non-null   int64  \n",
      " 20  contract-one_year                7032 non-null   int64  \n",
      " 21  contract-two_year                7032 non-null   int64  \n",
      " 22  payment_method-credit_card_auto  7032 non-null   int64  \n",
      " 23  payment_method-electronic_check  7032 non-null   int64  \n",
      " 24  payment_method-mailed_check      7032 non-null   int64  \n",
      "dtypes: float64(3), int64(22)\n",
      "memory usage: 1.3 MB\n"
     ]
    }
   ],
   "source": [
    "df.info()"
   ]
  },
  {
   "cell_type": "code",
   "execution_count": 10,
   "metadata": {},
   "outputs": [
    {
     "data": {
      "text/plain": [
       "gender                             0\n",
       "senior                             0\n",
       "partner                            0\n",
       "dependents                         0\n",
       "tenure                             0\n",
       "phone_service                      0\n",
       "multiple_lines                     0\n",
       "online_security                    0\n",
       "online_backup                      0\n",
       "device_protection                  0\n",
       "tech_support                       0\n",
       "streaming_tv                       0\n",
       "streaming_movies                   0\n",
       "paperless_billing                  0\n",
       "monthly_charges                    0\n",
       "total_charges                      0\n",
       "churn                              0\n",
       "avg_monthly_charges                0\n",
       "internet_service-fiber_optic       0\n",
       "internet_service-no                0\n",
       "contract-one_year                  0\n",
       "contract-two_year                  0\n",
       "payment_method-credit_card_auto    0\n",
       "payment_method-electronic_check    0\n",
       "payment_method-mailed_check        0\n",
       "dtype: int64"
      ]
     },
     "execution_count": 10,
     "metadata": {},
     "output_type": "execute_result"
    }
   ],
   "source": [
    "df.isnull().sum()"
   ]
  },
  {
   "cell_type": "code",
   "execution_count": 4,
   "metadata": {},
   "outputs": [],
   "source": [
    "y=df['churn']\n",
    "x=df.drop('churn', axis=1)"
   ]
  },
  {
   "cell_type": "code",
   "execution_count": 5,
   "metadata": {},
   "outputs": [],
   "source": [
    "from sklearn.model_selection import train_test_split\n",
    "x_train, x_test, y_train, y_test = train_test_split(x, y, random_state=3)"
   ]
  },
  {
   "cell_type": "code",
   "execution_count": 11,
   "metadata": {},
   "outputs": [
    {
     "name": "stdout",
     "output_type": "stream",
     "text": [
      "Confusion Matrix - Train:  \n",
      " [[3442  403]\n",
      " [ 615  814]]\n",
      "Overall Accuracy - Train:  0.806977626090254\n",
      "AUC- Train: 0.8590076813106913\n",
      "Confusion Matrix - Test:  \n",
      " [[1181  137]\n",
      " [ 192  248]]\n",
      "Overall Accuracy - Test:  0.8128555176336746\n",
      "AUC- Test: 0.8466952338253553\n",
      "Classification Report - Test               precision    recall  f1-score   support\n",
      "\n",
      "           0       0.86      0.90      0.88      1318\n",
      "           1       0.64      0.56      0.60       440\n",
      "\n",
      "    accuracy                           0.81      1758\n",
      "   macro avg       0.75      0.73      0.74      1758\n",
      "weighted avg       0.81      0.81      0.81      1758\n",
      "\n"
     ]
    },
    {
     "data": {
      "text/plain": [
       "Text(0, 0.5, 'TPR')"
      ]
     },
     "execution_count": 11,
     "metadata": {},
     "output_type": "execute_result"
    },
    {
     "data": {
      "image/png": "[encoded data removed]",
      "text/plain": [
       "<Figure size 432x288 with 1 Axes>"
      ]
     },
     "metadata": {
      "needs_background": "light"
     },
     "output_type": "display_data"
    }
   ],
   "source": [
    "from sklearn.ensemble import AdaBoostClassifier\n",
    "from sklearn.metrics import confusion_matrix, roc_auc_score, accuracy_score, roc_curve, classification_report\n",
    "ada = AdaBoostClassifier(random_state=3)\n",
    "\n",
    "ada.fit(x_train, y_train)\n",
    "\n",
    "y_train_pred=ada.predict(x_train)\n",
    "\n",
    "y_train_prob=ada.predict_proba(x_train)[:,1]\n",
    "\n",
    "print('Confusion Matrix - Train: ', '\\n' ,confusion_matrix(y_train, y_train_pred))\n",
    "\n",
    "print('Overall Accuracy - Train: ', accuracy_score(y_train, y_train_pred))\n",
    "\n",
    "\n",
    "print('AUC- Train:' , roc_auc_score(y_train, y_train_prob))\n",
    "\n",
    "\n",
    "\n",
    "y_test_pred= ada.predict(x_test)\n",
    "\n",
    "y_test_prob=ada.predict_proba(x_test)[:,1]\n",
    "\n",
    "print('Confusion Matrix - Test: ', '\\n' ,confusion_matrix(y_test, y_test_pred))\n",
    "\n",
    "print('Overall Accuracy - Test: ', accuracy_score(y_test, y_test_pred))\n",
    "\n",
    "print('AUC- Test:' , roc_auc_score(y_test, y_test_prob))\n",
    "\n",
    "print('Classification Report - Test', classification_report(y_test, y_test_pred))\n",
    "\n",
    "fpr, tpr, thresholds =roc_curve(y_test, y_test_prob)\n",
    "plt.plot(fpr, tpr)\n",
    "plt.plot(fpr, fpr, 'red')\n",
    "plt.xlabel('FPR')\n",
    "plt.ylabel('TPR')"
   ]
  },
  {
   "cell_type": "markdown",
   "metadata": {},
   "source": [
    "# light gbm classifier"
   ]
  },
  {
   "cell_type": "markdown",
   "metadata": {},
   "source": [
    "Light GBM is a fast, distributed, high-performance gradient boosting framework based on decision tree algorithm, used for ranking, classification and many other machine learning tasks.\n",
    "\n",
    "Since it is based on decision tree algorithms, it splits the tree leaf wise with the best fit whereas other boosting algorithms split the tree depth wise or level wise rather than leaf-wise. So when growing on the same leaf in Light GBM, the leaf-wise algorithm can reduce more loss than the level-wise algorithm and hence results in much better accuracy which can rarely be achieved by any of the existing boosting algorithms. Also, it is surprisingly very fast, hence the word ‘Light’."
   ]
  },
  {
   "cell_type": "markdown",
   "metadata": {},
   "source": [
    "\n",
    "# Advantages of Light GBM\n",
    "\n",
    "1. Faster training speed and higher efficiency: Light GBM use histogram based algorithm i.e it buckets continuous feature values into discrete bins which fasten the training procedure.\n",
    "2. Lower memory usage: Replaces continuous values to discrete bins which result in lower memory usage.\n",
    "3. Better accuracy than any other boosting algorithm: It produces much more complex trees by following leaf wise split approach rather than a level-wise approach which is the main factor in achieving higher accuracy. However, it can sometimes lead to 4. 4. 4. overfitting which can be avoided by setting the max_depth parameter.\n",
    "5. Compatibility with Large Datasets: It is capable of performing equally good with large datasets with a significant reduction in training time as compared to XGBOOST.\n",
    "5. Parallel learning supported."
   ]
  },
  {
   "cell_type": "code",
   "execution_count": 13,
   "metadata": {},
   "outputs": [],
   "source": [
    "import lightgbm as lgb\n",
    "lgbm = lgb.LGBMClassifier()"
   ]
  },
  {
   "cell_type": "code",
   "execution_count": 17,
   "metadata": {},
   "outputs": [
    {
     "data": {
      "text/plain": [
       "RandomizedSearchCV(cv=3, error_score=nan,\n",
       "                   estimator=LGBMClassifier(boosting_type='gbdt',\n",
       "                                            class_weight=None,\n",
       "                                            colsample_bytree=1.0,\n",
       "                                            importance_type='split',\n",
       "                                            learning_rate=0.1, max_depth=-1,\n",
       "                                            min_child_samples=20,\n",
       "                                            min_child_weight=0.001,\n",
       "                                            min_split_gain=0.0,\n",
       "                                            n_estimators=100, n_jobs=-1,\n",
       "                                            num_leaves=31, objective=None,\n",
       "                                            random_state=None, reg_alpha=0.0,\n",
       "                                            reg_lambda=0.0, sile...\n",
       "                                        'max_depth': <scipy.stats._distn_infrastructure.rv_frozen object at 0x0000023BFE00B240>,\n",
       "                                        'n_estimators': <scipy.stats._distn_infrastructure.rv_frozen object at 0x0000023BFE00B0B8>,\n",
       "                                        'num_leaves': <scipy.stats._distn_infrastructure.rv_frozen object at 0x0000023BFE00BBA8>},\n",
       "                   pre_dispatch='2*n_jobs', random_state=3, refit=True,\n",
       "                   return_train_score=False, scoring=None, verbose=0)"
      ]
     },
     "execution_count": 17,
     "metadata": {},
     "output_type": "execute_result"
    }
   ],
   "source": [
    "from sklearn.model_selection import RandomizedSearchCV\n",
    "from scipy.stats import randint as sp_randint\n",
    "from scipy.stats import uniform as sp_uniform\n",
    "\n",
    "params = {'n_estimators': sp_randint(50,200),\n",
    "         'max_depth': sp_randint(2,15),\n",
    "         'learning_rate': sp_uniform(0.001, 0.5),\n",
    "         'num_leaves': sp_randint(20,50)}\n",
    "\n",
    "rsearch = RandomizedSearchCV( lgbm, param_distributions = params, cv=3, n_iter=100, random_state=3, n_jobs=-1)\n",
    "\n",
    "rsearch.fit(x,y)"
   ]
  },
  {
   "cell_type": "code",
   "execution_count": 18,
   "metadata": {},
   "outputs": [
    {
     "data": {
      "text/plain": [
       "{'learning_rate': 0.16390357903243724,\n",
       " 'max_depth': 2,\n",
       " 'n_estimators': 59,\n",
       " 'num_leaves': 21}"
      ]
     },
     "execution_count": 18,
     "metadata": {},
     "output_type": "execute_result"
    }
   ],
   "source": [
    "rsearch.best_params_"
   ]
  },
  {
   "cell_type": "code",
   "execution_count": 21,
   "metadata": {},
   "outputs": [
    {
     "name": "stdout",
     "output_type": "stream",
     "text": [
      "Confusion Matrix - Train:  \n",
      " [[3504  341]\n",
      " [ 637  792]]\n",
      "Overall Accuracy - Train:  0.8145620022753128\n",
      "AUC- Train: 0.8629819246683732\n",
      "Confusion Matrix - Test:  \n",
      " [[1187  131]\n",
      " [ 204  236]]\n",
      "Overall Accuracy - Test:  0.8094425483503982\n",
      "AUC- Test: 0.8478359084011587\n",
      "Classification Report - Test               precision    recall  f1-score   support\n",
      "\n",
      "           0       0.85      0.90      0.88      1318\n",
      "           1       0.64      0.54      0.58       440\n",
      "\n",
      "    accuracy                           0.81      1758\n",
      "   macro avg       0.75      0.72      0.73      1758\n",
      "weighted avg       0.80      0.81      0.80      1758\n",
      "\n"
     ]
    },
    {
     "data": {
      "text/plain": [
       "Text(0, 0.5, 'TPR')"
      ]
     },
     "execution_count": 21,
     "metadata": {},
     "output_type": "execute_result"
    },
    {
     "data": {
      "image/png": "[encoded data removed]",
      "text/plain": [
       "<Figure size 432x288 with 1 Axes>"
      ]
     },
     "metadata": {
      "needs_background": "light"
     },
     "output_type": "display_data"
    }
   ],
   "source": [
    "lgbm=lgb.LGBMClassifier(**rsearch.best_params_)\n",
    "\n",
    "lgbm.fit(x_train, y_train)\n",
    "\n",
    "y_train_pred=lgbm.predict(x_train)\n",
    "\n",
    "y_train_prob=lgbm.predict_proba(x_train)[:,1]\n",
    "\n",
    "print('Confusion Matrix - Train: ', '\\n' ,confusion_matrix(y_train, y_train_pred))\n",
    "\n",
    "print('Overall Accuracy - Train: ', accuracy_score(y_train, y_train_pred))\n",
    "\n",
    "print('AUC- Train:' , roc_auc_score(y_train, y_train_prob))\n",
    "\n",
    "\n",
    "\n",
    "y_test_pred= lgbm.predict(x_test)\n",
    "\n",
    "y_test_prob=lgbm.predict_proba(x_test)[:,1]\n",
    "\n",
    "print('Confusion Matrix - Test: ', '\\n' ,confusion_matrix(y_test, y_test_pred))\n",
    "\n",
    "print('Overall Accuracy - Test: ', accuracy_score(y_test, y_test_pred))\n",
    "\n",
    "print('AUC- Test:' , roc_auc_score(y_test, y_test_prob))\n",
    "\n",
    "print('Classification Report - Test', classification_report(y_test, y_test_pred))\n",
    "\n",
    "fpr, tpr, thresholds =roc_curve(y_test, y_test_prob)\n",
    "plt.plot(fpr, tpr)\n",
    "plt.plot(fpr, fpr, 'red')\n",
    "plt.xlabel('FPR')\n",
    "plt.ylabel('TPR')"
   ]
  },
  {
   "cell_type": "code",
   "execution_count": null,
   "metadata": {},
   "outputs": [],
   "source": []
  }
 ],
 "metadata": {
  "kernelspec": {
   "display_name": "Python 3",
   "language": "python",
   "name": "python3"
  },
  "language_info": {
   "codemirror_mode": {
    "name": "ipython",
    "version": 3
   },
   "file_extension": ".py",
   "mimetype": "text/x-python",
   "name": "python",
   "nbconvert_exporter": "python",
   "pygments_lexer": "ipython3",
   "version": "3.6.5"
  }
 },
 "nbformat": 4,
 "nbformat_minor": 4
}
